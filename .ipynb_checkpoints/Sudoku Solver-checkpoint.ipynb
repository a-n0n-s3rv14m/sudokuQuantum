{
 "cells": [
  {
   "cell_type": "code",
   "execution_count": 1,
   "id": "5d530f77",
   "metadata": {},
   "outputs": [],
   "source": [
    "from qat.lang.AQASM import QRoutine, Z, H, X, CNOT, AbstractGate, Program\n",
    "from qat.lang.AQASM.qint import QInt\n",
    "from qat.lang.AQASM.misc import build_gate\n",
    "from qat.lang.AQASM.qftarith import add\n",
    "from qat.qpus import get_default_qpu\n",
    "import networkx as nx\n",
    "import numpy as np\n",
    "import SudokuQuantum as sq"
   ]
  },
  {
   "cell_type": "markdown",
   "id": "4f905456-63b5-413f-ad57-182d31b73662",
   "metadata": {},
   "source": [
    "# Sudoku Quantum  \n",
    "The following notebook shows an example of how to solve a Sudoku Puzzle using the Grover Algorithm\n",
    "### 4x4 Sudoku"
   ]
  },
  {
   "cell_type": "code",
   "execution_count": 2,
   "id": "62d4787e",
   "metadata": {},
   "outputs": [],
   "source": [
    "sudokuBoard4_5 = [\n",
    "    [0,0,3,4],\n",
    "    [0,0,1,2],\n",
    "    [2,3,4,0], #1\n",
    "    [4,1,2,3]  #1\n",
    "]\n",
    "\n",
    "solver = sq.SudokuSolver()"
   ]
  },
  {
   "cell_type": "markdown",
   "id": "80078fcb-7e9f-4274-b69c-659f94b91794",
   "metadata": {},
   "source": [
    "### 9x9 Sudoku"
   ]
  },
  {
   "cell_type": "code",
   "execution_count": 3,
   "id": "6fdecd7b-7fda-459d-9ac8-974940900e1d",
   "metadata": {},
   "outputs": [],
   "source": [
    "sudokuBoard9_3 = [\n",
    "    [0,7,3,  8,9,4,  5,1,2],\n",
    "    [9,0,2,  7,3,5,  4,8,6],\n",
    "    [8,4,5,  6,1,2,  9,7,3],\n",
    "    [7,9,8,  2,6,1,  3,5,4],\n",
    "    [5,2,6,  4,7,3,  8,9,1],\n",
    "    [1,3,4,  5,0,9,  2,6,7],\n",
    "    [4,6,9,  1,2,8,  7,3,5],\n",
    "    [2,8,7,  3,5,6,  1,4,9],\n",
    "    [3,5,1,  9,4,7,  6,2,8],\n",
    "]\n",
    "\n",
    "# [0,7,3,  8,9,4,  5,1,2],\n",
    "#     [9,0,2,  7,3,5,  4,8,6],\n",
    "#     [8,4,5,  6,1,2,  9,7,3],\n",
    "#     [7,9,8,  2,6,1,  3,5,4],\n",
    "#     [5,2,6,  4,7,3,  8,9,1],\n",
    "#     [1,3,4,  5,8,9,  2,6,7],\n",
    "#     [4,6,9,  1,2,8,  7,3,5],\n",
    "#     [2,8,7,  3,5,6,  1,4,9],\n",
    "#     [3,5,1,  9,4,7,  6,2,8],"
   ]
  },
  {
   "cell_type": "markdown",
   "id": "55f5857e-7042-4f7d-b64a-02b4c9b412bd",
   "metadata": {},
   "source": [
    "### Classical Calculations  \n",
    "Before starting with the quantum algorithm the Constraints of the sudoku are calculated  \n",
    "##### emptyCellConstraints\n",
    "Here the constraints between empty cells are calculated  \n",
    "* (1,0) => Empty Cell at #1 cant be the same as empty Cell at #0\n",
    "* These edges are stored to later check them with the color equality oracle\n",
    "##### startingNumberConstraints  \n",
    "Here the Number Constraints of the empty cells are defined\n",
    "* (0,1) => Empty cell 0 cant have value 1\n",
    "* These Constraints have to be encoded into the Superposition of the color qubits using amplitudes\n",
    "##### emptySquares  \n",
    "Here the position of the empty cells is defined"
   ]
  },
  {
   "cell_type": "code",
   "execution_count": 4,
   "id": "12ec36cb",
   "metadata": {},
   "outputs": [
    {
     "name": "stdout",
     "output_type": "stream",
     "text": [
      "SubSize= 3\n",
      "Size = 9\n",
      "iSubGridStart= 0\n",
      "jSubGridStart= 0\n",
      "I = 0 ; J = 0\n",
      "iSubGridStart= 0\n",
      "jSubGridStart= 0\n",
      "I = 1 ; J = 1\n",
      "iSubGridStart= 3\n",
      "jSubGridStart= 3\n",
      "I = 5 ; J = 4\n"
     ]
    }
   ],
   "source": [
    "board_size = 9\n",
    "emptyCellConstraints, startingNumberConstraints, emptySquares = solver.FindEdgesAndNumberConstraints(sudokuBoard9_3, board_size)"
   ]
  },
  {
   "cell_type": "code",
   "execution_count": 5,
   "id": "f16bc098",
   "metadata": {
    "scrolled": true
   },
   "outputs": [
    {
     "name": "stdout",
     "output_type": "stream",
     "text": [
      "EmptyCellConstraints: [(1, 0)]\n",
      "NumberConstraints: {(0, 2), (2, 2), (1, 6), (0, 8), (0, 14), (1, 3), (1, 9), (0, 11), (2, 8), (2, 5), (1, 12), (2, 11), (2, 14), (1, 15), (0, 1), (0, 7), (2, 4), (1, 2), (0, 4), (0, 10), (2, 1), (1, 5), (1, 11), (0, 13), (2, 10), (1, 8), (1, 14), (2, 13), (0, 0), (1, 1), (0, 3), (0, 9), (2, 0), (1, 4), (0, 6), (0, 12), (2, 3), (1, 7), (1, 13), (0, 15), (2, 6), (1, 10), (2, 9), (2, 12), (2, 15)}\n",
      "EmptySquaresCount: 3 , EmpySquaresPos: [(Row: 0; IndexInRow: 0), (Row: 1; IndexInRow: 1), (Row: 5; IndexInRow: 4)]\n",
      "Bits needed to represent all colors: 4\n"
     ]
    }
   ],
   "source": [
    "# The Empty Square Edges specifies the constraints between the empty edges \n",
    "# (1,0) => Empty Cell #1 cant be the same as empty Cell #0\n",
    "print(f\"EmptyCellConstraints: {emptyCellConstraints}\")\n",
    "\n",
    "# The Number Constraints \n",
    "# (0,1) => Empty Cell 0 cant have value 1\n",
    "print(f\"NumberConstraints: {startingNumberConstraints}\")\n",
    "\n",
    "# This Holds the position of the empty cells\n",
    "emptyCellCount = len(emptySquares)\n",
    "print(f\"EmptySquaresCount: {emptyCellCount} , EmpySquaresPos: {emptySquares}\")\n",
    "\n",
    "# Bits needed to represent all \"colors\" \n",
    "bits_needed = board_size.bit_length()\n",
    "print(f\"Bits needed to represent all colors: {bits_needed}\")"
   ]
  },
  {
   "cell_type": "code",
   "execution_count": null,
   "id": "c319af96-020e-4fa3-baff-47bcaf967e78",
   "metadata": {},
   "outputs": [],
   "source": []
  },
  {
   "cell_type": "markdown",
   "id": "bf408b4d",
   "metadata": {},
   "source": [
    "#### Quantum Solving Soduko  \n",
    "* We have four possible States of a Sudoku Cell => (0,1,2,3)\n",
    "* We need 2 Qubits per cell \n",
    "* We can use the graph Coloring problem\n",
    "\n",
    "nVertices = 4\n",
    "size = 4\n"
   ]
  },
  {
   "cell_type": "markdown",
   "id": "8c105249",
   "metadata": {},
   "source": [
    "ApplyVertexColoringConstraints(nVertices = 4, bitsPerColor = 2, emptySquareEdges)\n",
    "* We need to store the state of the coloring constraints edges we have len(emptySquareEdges)\n",
    "* Create Qubits for all these Edges\n",
    "* \n",
    "\n",
    "==>Applies Transformation on Qubits"
   ]
  },
  {
   "cell_type": "markdown",
   "id": "a52906ac",
   "metadata": {},
   "source": [
    "PrepareSearchStatesSuperposition(nVertices = 4 , bitsPerColor = 2, startingNumberConstraints, _);\n",
    "* Take all the ColorRegister and split it into Chunks of size bitsPerColor\n",
    "* For every cell create an array of states that are possible\n",
    "\n",
    "==>"
   ]
  },
  {
   "cell_type": "markdown",
   "id": "0319a173",
   "metadata": {},
   "source": [
    "AllowedAmplitudes(nVertices = 4, bitsPerColor=2, startingNumberConstraints)"
   ]
  },
  {
   "cell_type": "markdown",
   "id": "f03746b3",
   "metadata": {},
   "source": [
    "## Solve Puzzle\n",
    "* bitsPerColor = 2 ==> 4 Possible Colors/Numbers per Sudoku Cell"
   ]
  },
  {
   "cell_type": "markdown",
   "id": "64d26c9e-6cdb-4713-a999-6b900e5473ef",
   "metadata": {},
   "source": [
    "### Grover Diffusor"
   ]
  },
  {
   "cell_type": "code",
   "execution_count": 6,
   "id": "6b071345-9531-41c6-8f52-3ebb80320ce8",
   "metadata": {},
   "outputs": [
    {
     "data": {
      "image/png": "[encoded data removed]",
      "text/plain": [
       "<IPython.core.display.Image object>"
      ]
     },
     "metadata": {},
     "output_type": "display_data"
    }
   ],
   "source": [
    "@build_gate(\"Diffusor\", [int], arity=lambda n: n)\n",
    "def diffusion(nqbits):\n",
    "    rout = QRoutine()\n",
    "    wires = rout.new_wires(nqbits)\n",
    "    with rout.compute():\n",
    "        for wire in wires:\n",
    "            H(wire)\n",
    "            X(wire)\n",
    "    Z.ctrl(nqbits-1)(wires)\n",
    "    rout.uncompute()\n",
    "    return rout\n",
    "\n",
    "example = diffusion(4)\n",
    "example.display()"
   ]
  },
  {
   "cell_type": "markdown",
   "id": "964f59ad",
   "metadata": {},
   "source": [
    "### ApplyColorEqualityOracle\n",
    "* This checks the condition of one edge\n",
    "* m stands for the amount of bits neede to represent all colors => $2^m$ \n",
    "* arity stands for the number of Qubits the gate/routine will work with\n",
    "    + two nodes each need m qubits to hold their color \n",
    "    + +1 Qubit to store the comparison reslut (0 for not equal, 1 for equal)"
   ]
  },
  {
   "cell_type": "code",
   "execution_count": 7,
   "id": "5e83dc6c",
   "metadata": {},
   "outputs": [
    {
     "data": {
      "image/png": "[encoded data removed]",
      "text/plain": [
       "<IPython.core.display.Image object>"
      ]
     },
     "metadata": {},
     "output_type": "display_data"
    }
   ],
   "source": [
    "@build_gate(\"Check_Edge\", [int], arity=lambda m: 2*m + 1)\n",
    "def check_edge(m):\n",
    "    rout = QRoutine()\n",
    "    #color1 equals to the first m wires\n",
    "    color1 = rout.new_wires(m)\n",
    "    #color2 equals to the m wires after that\n",
    "    color2 = rout.new_wires(m)\n",
    "    #output is equal to the single last wire and is used to store the information of the comparison\n",
    "    output = rout.new_wires(1)\n",
    "    with rout.compute():\n",
    "        for wire1,wire2 in zip(color1, color2):\n",
    "            CNOT(wire1, wire2)\n",
    "        for wire in color2:\n",
    "            X(wire)\n",
    "    #Multi Controlled NOT gate\n",
    "    #m for how many control qbits\n",
    "    #color2 are the control qubits\n",
    "    #output is the target qubit\n",
    "    #The X gate is applied to the output qubit only if all color2 qubits are in state |1⟩\n",
    "    X.ctrl(m)(color2, output)\n",
    "    rout.uncompute()\n",
    "    X(output)\n",
    "    return rout\n",
    "    \n",
    "example = check_edge(2)\n",
    "example.display()"
   ]
  },
  {
   "cell_type": "markdown",
   "id": "02305d53",
   "metadata": {},
   "source": [
    "### ApplyVertexColoringOracle(Nodes, bitsPerColor, edges)\n",
    "* This checks wether emptySquareEdges constraints are violated or not  \n",
    "=> Nodes is the amount of empty cells  \n",
    "=> m is the amount of classical bits needed to map the amount of possible colors/numbers  \n",
    "=> edges are the emptyCellConstraints\n",
    "+ Arity is equal to Nodes * m + (Nodes + 1) <= output for single Comparisons and all Comparisons\n",
    "                                "
   ]
  },
  {
   "cell_type": "code",
   "execution_count": 8,
   "id": "1a71ee31-3fbf-4523-b700-aabf6703972f",
   "metadata": {},
   "outputs": [
    {
     "name": "stdout",
     "output_type": "stream",
     "text": [
      "[(1, 0)]\n"
     ]
    }
   ],
   "source": [
    "# Workaround for build_gate decorator signature\n",
    "# @build_gate Decorator does not allow for 2d lists\n",
    "# We create an class and pass an object that holds the List\n",
    "class EmptyCellConstraintHolder:\n",
    "    def __init__(self, constraints):\n",
    "        self.constraints = constraints\n",
    "\n",
    "ch = EmptyCellConstraintHolder(emptyCellConstraints)\n",
    "\n",
    "print(ch.constraints)"
   ]
  },
  {
   "cell_type": "code",
   "execution_count": 9,
   "id": "7624996a",
   "metadata": {},
   "outputs": [
    {
     "name": "stdout",
     "output_type": "stream",
     "text": [
      "<class 'list'>\n",
      "[(0, 1), (1, 2)]\n",
      "start: 1, end: 0, conflictQubit: 0\n"
     ]
    }
   ],
   "source": [
    "edges = emptyCellConstraints\n",
    "print(type(edges))\n",
    "graph = nx.generators.path_graph(3)\n",
    "print((graph.edges()))\n",
    "\n",
    "# print(edges[0])\n",
    "\n",
    "for (start, end), conflictQubitWire in zip(edges, range(4)):\n",
    "    print(f'start: {start}, end: {end}, conflictQubit: {conflictQubitWire}' )"
   ]
  },
  {
   "cell_type": "code",
   "execution_count": 10,
   "id": "05288da0",
   "metadata": {},
   "outputs": [],
   "source": [
    "# def phase_matrix():\n",
    "#     return \n",
    "\n",
    "# multiControlledZ = AbstractGate(\"MC_Z\", [], arity = 5, matrix_generator=)"
   ]
  },
  {
   "cell_type": "code",
   "execution_count": 11,
   "id": "b6e08a4b",
   "metadata": {
    "scrolled": true
   },
   "outputs": [
    {
     "data": {
      "image/png": "[encoded data removed]",
      "text/plain": [
       "<IPython.core.display.Image object>"
      ]
     },
     "metadata": {},
     "output_type": "display_data"
    }
   ],
   "source": [
    "@build_gate('Oracle',[int,EmptyCellConstraintHolder,int],arity=lambda n, e, m:n * m)\n",
    "def sudokuOracle(Nodes: int, constraintsHolder, m: int):\n",
    "    rout = QRoutine()\n",
    "    \n",
    "    # Get the emptyCellConstraints stored in the constraintsHolder object\n",
    "    edges = constraintsHolder.constraints\n",
    "    \n",
    "    # Array to store all colors (register)\n",
    "    colors = [rout.new_wires(m) for node in range(Nodes)]\n",
    "    \n",
    "    conflictEdges = len(edges)\n",
    "    # We are looking for a solution that has no edge with same color at both ends\n",
    "    # Every edge has to be compared to check that the condition to not be the same color/number is not violated\n",
    "    # The result for every operation is safed on one qubit => len(edges) for the amount of qubits\n",
    "    edgeConflictQubits = rout.new_wires(conflictEdges)\n",
    "    \n",
    "    # Then for all edges the state is checked on the output qubit\n",
    "    output = rout.new_wires(1)\n",
    "    \n",
    "    # Initialize the check_routine with m = 2\n",
    "    check_routine = check_edge(bits_needed)\n",
    "    \n",
    "    # Create an Adder\n",
    "    adder = add(1,1)\n",
    "    with rout.compute():\n",
    "        for (start, end), conflictQubit in zip(edges, edgeConflictQubits):\n",
    "            \n",
    "            with rout.compute():\n",
    "                check_routine(colors[start], colors[end], conflictQubit)\n",
    "                \n",
    "            rout.uncompute()\n",
    "        \n",
    "    # Check the state of all edgeConflictQubits\n",
    "    Z.ctrl(len(edges))(edgeConflictQubits, output)\n",
    "    \n",
    "    rout.uncompute()\n",
    "    \n",
    "    rout.set_ancillae(edgeConflictQubits ,output)\n",
    "    \n",
    "    return rout\n",
    "\n",
    "example = sudokuOracle(emptyCellCount, ch, bits_needed)\n",
    "\n",
    "example.display()\n",
    "\n",
    "# prog = Program()\n",
    "\n",
    "# data = [prog.qalloc(2, QInt) for _ in range(4)]\n",
    "\n",
    "# oracle = sudokuOracle(4, ch, 2)\n",
    "\n",
    "# oracle(data)\n",
    "\n",
    "\n",
    "\n",
    "# circ = prog.to_circ()\n",
    "\n",
    "\n",
    "    "
   ]
  },
  {
   "cell_type": "markdown",
   "id": "ae00fa36-a843-4422-8579-ce95738fc2db",
   "metadata": {},
   "source": [
    "### AllowedAmplitudes  \n",
    "* Function that takes the startingNumberConstraints and encodes them into a 2d"
   ]
  },
  {
   "cell_type": "code",
   "execution_count": 12,
   "id": "c639b1de-b1ab-4d79-8986-59a39ad60004",
   "metadata": {},
   "outputs": [],
   "source": [
    "# This function returns a 4x4 matrix of the allowed amplitudes for the 4 given Qubits\n",
    "# I.E. :\n",
    "#     [1, 0, 0, 0],  # 00\n",
    "#     [0, 1, 0, 0],  # 01\n",
    "#     [0, 0, 1, 0],  # 10\n",
    "#     [0, 0, 0, 1],  # 11\n",
    "\n",
    "def AllowedAmplitudes(Nodes, m ,startingNumberConstraints):\n",
    "    amplitudes = np.ones((Nodes, 2**m))\n",
    "    for cell, value in startingNumberConstraints:\n",
    "        amplitudes[cell, value] = 0\n",
    "    return amplitudes"
   ]
  },
  {
   "cell_type": "markdown",
   "id": "bb90455d-cc5e-4077-b85e-cb3e81fc92fd",
   "metadata": {},
   "source": [
    "### encodeAmplitudes\n",
    "* Function to encode the given AllowedAmplitudes  \n",
    "* Amplitudes define the constraints of an empty cell to all other existing cells => All possible states for one cell\n",
    "* With 4 empty cells in 4x4 Sudoku all possible Amplitudes are defined as:\n",
    "    *     [1, 0, 0, 0],  # 00\n",
    "    *     [0, 1, 0, 0],  # 01\n",
    "    *     [0, 0, 1, 0],  # 10\n",
    "    *     [0, 0, 0, 1],  # 11\n",
    "    *     [1, 0, 0, 1],  # 00 + 11\n",
    "    *     [1, 1, 0, 0],  # 00 + 01\n",
    "    *     [1, 0, 1, 0],  # 00 + 10\n",
    "    *     [0, 1, 1, 0],  # 01 + 10\n",
    "    *     [0, 1, 0, 1],  # 01 + 11\n",
    "    *     [0, 0, 1, 1],  # 10 + 11\n",
    "    *     [1, 0, 1, 1],  # 00 + 10 + 11\n",
    "    *     [1, 1, 1, 0],  # 00 + 01 + 10\n",
    "    *     [1, 1, 0, 1],  # 00 + 01 + 11\n",
    "    *     [0, 1, 1, 1],  # 01 + 10 + 11\n",
    "    *     [1, 1, 1, 1],  # 00 + 01 + 10 + 11\n",
    "    *     [0, 0, 0, 0],  # ---\n",
    "#### Functionality  \n",
    "The encodeAmplitudes Function takes the allowedAmplitudes Array for a cell and encodes the constraints into the superposition  \n",
    "This is achieved by applying Quantum Gates t create a equal superposition of all allowed states"
   ]
  },
  {
   "cell_type": "code",
   "execution_count": 13,
   "id": "2e5d861e",
   "metadata": {},
   "outputs": [],
   "source": [
    "def encodeAmplitudes(amplitudes, qubitChunk):\n",
    "    \n",
    "    ctrlZ = Z.ctrl(1)\n",
    "    ctrlH = H.ctrl(1)\n",
    "\n",
    "    amplitudes = np.array(amplitudes)\n",
    "\n",
    "        ## 00 State\n",
    "    if np.array_equal(amplitudes, [1, 0, 0, 0]):\n",
    "        pass # Nothing has to be done\n",
    "    # 01 State\n",
    "    elif np.array_equal(amplitudes, [0, 1, 0, 0]):\n",
    "        X(qubitChunk[1])\n",
    "        \n",
    "    # 10 State\n",
    "    elif np.array_equal(amplitudes, [0, 0, 1, 0]):\n",
    "        X(qubitChunk[0])\n",
    "        \n",
    "    # 11 State\n",
    "    elif np.array_equal(amplitudes, [0, 0, 0, 1]):\n",
    "        X(qubitChunk[0])\n",
    "        X(qubitChunk[1])\n",
    "        \n",
    "    # 00 and 11 State Superposition\n",
    "    elif np.array_equal(amplitudes, [1, 0, 0, 1]):\n",
    "        H(qubitChunk[0])\n",
    "        CNOT(qubitChunk[0], qubitChunk[1])\n",
    "        \n",
    "    # 00 and 01 State Superposition\n",
    "    elif np.array_equal(amplitudes, [1, 1, 0, 0]):\n",
    "        H(qubitChunk[1])\n",
    "        \n",
    "    # 00 and 10 State Superposition\n",
    "    elif np.array_equal(amplitudes, [1, 0, 1, 0]):\n",
    "        H(qubitChunk[0])\n",
    "        \n",
    "    # 01 and 10 State Superposition\n",
    "    elif np.array_equal(amplitudes, [0, 1, 1, 0]):\n",
    "        X(qubitChunk[1])\n",
    "        H(qubitChunk[0])\n",
    "        CNOT(qubitChunk[0], qubitChunk[1])\n",
    "        \n",
    "    # 01 and 11 State Superposition\n",
    "    elif np.array_equal(amplitudes, [0, 1, 0, 1]):\n",
    "        X(qubitChunk[1])\n",
    "        H(qubitChunk[0])\n",
    "        \n",
    "    # 10 an 11 State Superposition\n",
    "    elif np.array_equal(amplitudes, [0, 0, 1, 1]):\n",
    "        X(qubitChunk[0])\n",
    "        H(qubitChunk[1])\n",
    "        \n",
    "    # 00 and 10 and 11 State Superposition\n",
    "    elif np.array_equal(amplitudes, [1, 0, 1, 1]):\n",
    "        H(qubitChunk[0])\n",
    "        ctrlH(qubitChunk[0], qubitChunk[1])\n",
    "        \n",
    "    # 00 and 01 and 10 State Superposition\n",
    "    elif np.array_equal(amplitudes, [1, 1, 1, 0]):\n",
    "        H(qubitChunk[0])\n",
    "        H(qubitChunk[1])\n",
    "        ctrlH(qubitChunk[0], qubitChunk[1])\n",
    "        H(qubitChunk[1])\n",
    "        \n",
    "    # 01 and 10 and 11 State Superposition\n",
    "    elif np.array_equal(amplitudes, [0, 1, 1, 1]):\n",
    "        H(qubitChunk[0])\n",
    "        ctrlH(qubitChunk[0], qubitChunk[1])\n",
    "        \n",
    "    # 00 and 01 and 10 and 11 State Superposition\n",
    "    elif np.array_equal(amplitudes, [1, 1, 1, 1]):\n",
    "        H(qubitChunk[0])\n",
    "        H(qubitChunk[1])\n",
    "    \n",
    "\n",
    "\n",
    "    "
   ]
  },
  {
   "cell_type": "code",
   "execution_count": 34,
   "id": "79d48afa-87f9-446f-9161-f005c846043b",
   "metadata": {},
   "outputs": [
    {
     "name": "stdout",
     "output_type": "stream",
     "text": [
      "[[0, 0, 0, 0, 0, 0, 0, 0, 0, 0, 0, 0, 0, 0, 0, 0], [0.7071067811865475, 0, 0, 0, 0, 0, 0, 0, 0, 0, 0, 0, 0, 0, 0, 0], [0, 0, 0, 0, 0, 0, 0, 0, 0, 0, 0, 0, 0, 0, 0, 0], [0.7071067811865475, 0, 0, 0, 0, 0, 0, 0, 0, 0, 0, 0, 0, 0, 0, 0], [0, 0, 0, 0, 0, 0, 0, 0, 0, 0, 0, 0, 0, 0, 0, 0], [0, 0, 0, 0, 0, 0, 0, 0, 0, 0, 0, 0, 0, 0, 0, 0], [0, 0, 0, 0, 0, 0, 0, 0, 0, 0, 0, 0, 0, 0, 0, 0], [0, 0, 0, 0, 0, 0, 0, 0, 0, 0, 0, 0, 0, 0, 0, 0], [0, 0, 0, 0, 0, 0, 0, 0, 0, 0, 0, 0, 0, 0, 0, 0], [0, 0, 0, 0, 0, 0, 0, 0, 0, 0, 0, 0, 0, 0, 0, 0], [0, 0, 0, 0, 0, 0, 0, 0, 0, 0, 0, 0, 0, 0, 0, 0], [0, 0, 0, 0, 0, 0, 0, 0, 0, 0, 0, 0, 0, 0, 0, 0], [0, 0, 0, 0, 0, 0, 0, 0, 0, 0, 0, 0, 0, 0, 0, 0], [0, 0, 0, 0, 0, 0, 0, 0, 0, 0, 0, 0, 0, 0, 0, 0], [0, 0, 0, 0, 0, 0, 0, 0, 0, 0, 0, 0, 0, 0, 0, 0], [0, 0, 0, 0, 0, 0, 0, 0, 0, 0, 0, 0, 0, 0, 0, 0]]\n"
     ]
    }
   ],
   "source": [
    "def prep_matrix(alpha, beta, gamma, delta):\n",
    "    return np.array([\n",
    "        [alpha,0,0,0],\n",
    "        [beta,0,0,0],\n",
    "        [gamma,0,0,0],\n",
    "        [delta,0,0,0]\n",
    "    ])\n",
    "def prep_var_matrix(*amps):\n",
    "    zeros = [0] * (len(amps)-1)\n",
    "    matrix = []\n",
    "    for amp in amps:\n",
    "        matrix.append([amp] + zeros)\n",
    "    print(matrix)\n",
    "    return np.array([matrix])\n",
    "    \n",
    "    \n",
    "PREP = AbstractGate('PREP',[float]*(2**bits_needed), arity=bits_needed, matrix_generator=prep_var_matrix)\n",
    "\n",
    "prog = Program()\n",
    "\n",
    "qubits = prog.qalloc(bits_needed)\n",
    "\n",
    "amp = 1/np.sqrt(2)\n",
    "\n",
    "prog.apply(PREP(0,amp,0,amp,0,0,0,0,0,0,0,0,0,0,0,0), qubits[0], qubits[1], qubits[2], qubits[3])\n",
    "\n",
    "# PREP(0, amp, 0, amp)(qubits[0], qubits[1])\n",
    "\n",
    "job = prog.to_circ().to_job()\n",
    "\n",
    "qpu = get_default_qpu()\n",
    "\n",
    "result = qpu.submit(job)\n",
    "\n"
   ]
  },
  {
   "cell_type": "code",
   "execution_count": 35,
   "id": "04dcf5d6-896e-4f9e-ae1c-11579e566818",
   "metadata": {},
   "outputs": [
    {
     "name": "stdout",
     "output_type": "stream",
     "text": [
      "State: |0001>, Probability: 0.4999999999999999\n",
      "State: |0011>, Probability: 0.4999999999999999\n"
     ]
    }
   ],
   "source": [
    "for res in result:\n",
    "    print(f\"State: {res.state}, Probability: {res.probability}\")"
   ]
  },
  {
   "cell_type": "code",
   "execution_count": 16,
   "id": "60747990",
   "metadata": {},
   "outputs": [
    {
     "data": {
      "image/png": "[encoded data removed]",
      "text/plain": [
       "<IPython.core.display.Image object>"
      ]
     },
     "metadata": {},
     "output_type": "display_data"
    },
    {
     "name": "stdout",
     "output_type": "stream",
     "text": [
      " state: |00>, amplitude: (0.7071067811865475+0j), probability: 0.4999999999999999\n",
      " state: |10>, amplitude: (0.7071067811865475+0j), probability: 0.4999999999999999\n"
     ]
    }
   ],
   "source": [
    "qreg = Program()\n",
    "qubitChunk = qreg.qalloc(2)\n",
    "\n",
    "H(qubitChunk[0])\n",
    "\n",
    "\n",
    "\n",
    "circ = qreg.to_circ()\n",
    "\n",
    "\n",
    "job = circ.to_job()\n",
    "\n",
    "circ.display()\n",
    "\n",
    "qpu = get_default_qpu()\n",
    "\n",
    "results = qpu.submit(job)\n",
    "\n",
    "for result in results:\n",
    "    print(f\" state: {result.state}, amplitude: {result.amplitude}, probability: {result.probability}\")\n"
   ]
  },
  {
   "cell_type": "markdown",
   "id": "8fe5cce7-da41-41e7-90d9-a0cd31c681e7",
   "metadata": {},
   "source": [
    "### Prepare Superposition  \n",
    "* Prepare the superposition for all color qubits\n",
    "* An equal Superposition for every possible state defined in the AllowedAmplitudes is created"
   ]
  },
  {
   "cell_type": "code",
   "execution_count": 17,
   "id": "d8f4ed29",
   "metadata": {},
   "outputs": [],
   "source": [
    "# Create the allowed amplitudes for the different Qubits\n",
    "# For every Node all color/number options are stored in one Row\n",
    "# All possible amplitudes can be displayed like this\n",
    "# amplitudes = [\n",
    "#     [1, 0, 0, 0],  # 00\n",
    "#     [0, 1, 0, 0],  # 01\n",
    "#     [0, 0, 1, 0],  # 10\n",
    "#     [0, 0, 0, 1],  # 11\n",
    "#     [1, 0, 0, 1],  # 00 + 11\n",
    "#     [1, 1, 0, 0],  # 00 + 01\n",
    "#     [1, 0, 1, 0],  # 00 + 10\n",
    "#     [0, 1, 1, 0],  # 01 + 10\n",
    "#     [0, 1, 0, 1],  # 01 + 11\n",
    "#     [0, 0, 1, 1],  # 10 + 11\n",
    "#     [1, 0, 1, 1],  # 00 + 10 + 11\n",
    "#     [1, 1, 1, 0],  # 00 + 01 + 10\n",
    "#     [1, 1, 0, 1],  # 00 + 01 + 11\n",
    "#     [0, 1, 1, 1],  # 01 + 10 + 11\n",
    "#     [1, 1, 1, 1],  # 00 + 01 + 10 + 11\n",
    "#     [0, 0, 0, 0],  # ---\n",
    "# ]\n",
    "\n",
    "    \n",
    "def prepareSuperposition(qReg, colors, Nodes, m, CellConstraints):\n",
    "        \n",
    "    # Get the allowed Amplitudes after taking startingNumberConstraints into Account\n",
    "    amplitudes = AllowedAmplitudes(Nodes = Nodes,m = m ,startingNumberConstraints = CellConstraints)\n",
    "    \n",
    "    # For each Cell prepare Superposition of its possible states on the qubits storing its color\n",
    "    for (amplitudes, chunk) in zip(amplitudes, colors):\n",
    "        encodeAmplitudes(amplitudes, chunk)\n",
    "\n",
    "    return qReg.to_circ()\n",
    "    \n",
    "\n",
    "        \n",
    "        \n",
    "# example = prepareSuperposition(4,2, emptyCellConstraints)\n",
    "# example.display()"
   ]
  },
  {
   "cell_type": "code",
   "execution_count": 18,
   "id": "2bc7d95a",
   "metadata": {
    "tags": []
   },
   "outputs": [
    {
     "name": "stdout",
     "output_type": "stream",
     "text": [
      "amp: [0. 0. 0. 0. 0. 1. 0. 0. 0. 0. 0. 0. 0. 0. 0. 0.], chunk: [1, 1, 1]\n",
      "amp: [1. 0. 0. 0. 0. 0. 0. 0. 0. 0. 0. 0. 0. 0. 0. 0.], chunk: [1, 1, 1]\n",
      "amp: [0. 0. 0. 0. 0. 0. 0. 1. 0. 0. 0. 0. 0. 0. 0. 0.], chunk: [1, 1, 1]\n"
     ]
    }
   ],
   "source": [
    "amps = AllowedAmplitudes(Nodes = emptyCellCount, m = bits_needed, startingNumberConstraints = startingNumberConstraints)\n",
    "chunks = [[1,1,1] for i in range(emptyCellCount)]\n",
    "\n",
    "for (amp, chunk) in zip(amps, chunks):\n",
    "    print(f'amp: {amp}, chunk: {chunk}')\n",
    "    \n"
   ]
  },
  {
   "cell_type": "markdown",
   "id": "f1a13f3d-6abe-4618-a6f8-a63e2a9f590a",
   "metadata": {},
   "source": [
    "### NIterations\n",
    "* Calculate the number of Iterations needed for the Grover Algorithm"
   ]
  },
  {
   "cell_type": "code",
   "execution_count": 19,
   "id": "2d86a3d4-4435-4511-917e-40641fbe1bb0",
   "metadata": {},
   "outputs": [],
   "source": [
    "def NIterations(Nodes, m, constraints):\n",
    "    # Create an Array of possible colors for 1 cell \n",
    "    colorOptions = [1 << m] * Nodes # ==> [4,4,4,4] for m = 2 and Nodes = 4\n",
    "\n",
    "    # For everytime the cell appears in the startingNumberConstraints Array reduce the possible colors for that cell by 1\n",
    "    for cell, _ in constraints:\n",
    "        colorOptions[cell] = colorOptions[cell] -1\n",
    "\n",
    "    possibleCalculations = np.prod(colorOptions)\n",
    "    # Calculate theta\n",
    "    theta = np.arcsin(1/np.sqrt(possibleCalculations))\n",
    "\n",
    "    nIterations = np.round(0.25/ np.pi / theta - 0.5 )\n",
    "    \n",
    "    return nIterations"
   ]
  },
  {
   "cell_type": "code",
   "execution_count": 20,
   "id": "0bb5d807-a548-4d79-b8a1-9a4b2b3ac75d",
   "metadata": {},
   "outputs": [],
   "source": [
    "# print(NIterations(6, 9, startingNumberConstraints))"
   ]
  },
  {
   "cell_type": "markdown",
   "id": "c9c21931-0cf1-4f1f-ac4f-39ab301b13ec",
   "metadata": {},
   "source": [
    "### Apply the Grover Algortihm"
   ]
  },
  {
   "cell_type": "code",
   "execution_count": 21,
   "id": "647a6247-6b5d-4b8a-9b16-276b7ba3881c",
   "metadata": {},
   "outputs": [],
   "source": [
    "def SudokuGrover(Nodes, m, iterations):\n",
    "    prog = Program()\n",
    "\n",
    "    # Create the qubits for every node\n",
    "    data = [prog.qalloc(m, QInt) for _ in range(Nodes)]\n",
    "\n",
    "    # Initialize the Superposition\n",
    "    prepareSuperposition(qReg = prog,colors = data,Nodes = Nodes,m = m, CellConstraints = startingNumberConstraints)\n",
    "\n",
    "    oracle = sudokuOracle(Nodes, ch, m)\n",
    "    diffusor = diffusion(Nodes*m)\n",
    "\n",
    "    for _ in range(iterations):\n",
    "        oracle(data)\n",
    "        diffusor(data)\n",
    "        \n",
    "        \n",
    "\n",
    "    return prog.to_circ(), data\n"
   ]
  },
  {
   "cell_type": "markdown",
   "id": "28c55f83-3de0-4fc9-bb0d-49d5bfc3b810",
   "metadata": {},
   "source": [
    "### Run the Grover Algorithm"
   ]
  },
  {
   "cell_type": "code",
   "execution_count": 23,
   "id": "55439a16-d8c9-4287-9f04-2497fb0e8cba",
   "metadata": {},
   "outputs": [
    {
     "name": "stdout",
     "output_type": "stream",
     "text": [
      "Using: 12 qubits\n",
      "2 0.0009155273437499999\n",
      "3 0.0009155273437499999\n",
      "4 0.0009155273437499999\n",
      "5 0.0009155273437499999\n",
      "6 0.0009155273437499999\n",
      "7 0.0009155273437499999\n"
     ]
    }
   ],
   "source": [
    "circ, reg = SudokuGrover(Nodes = emptyCellCount,m = bits_needed,iterations = 1)\n",
    "print(f\"Using: {np.size(reg)} qubits\")\n",
    "dir(reg)\n",
    "qpu = get_default_qpu()\n",
    "\n",
    "result = qpu.submit(circ.to_job(qubits = reg))\n",
    "\n",
    "for nbsteps in range(2, 8):\n",
    "    result = qpu.submit(circ.to_job(qubits=reg))\n",
    "    color, reg = SudokuGrover(Nodes = emptyCellCount, m =  bits_needed, iterations = nbsteps)\n",
    "    success_proba = 0\n",
    "    for sample in result:\n",
    "        colors = sample.state.value\n",
    "        if all(colors[a] != colors[b] for a, b in ch.constraints):\n",
    "            success_proba += sample.probability\n",
    "    print(nbsteps, success_proba)"
   ]
  },
  {
   "cell_type": "code",
   "execution_count": null,
   "id": "b574824b-fa22-43c2-98e7-f96d05657a4b",
   "metadata": {},
   "outputs": [],
   "source": [
    "def single_search(Nodes, m, nbsteps):\n",
    "    grover, registers = SudokuGrover(Nodes, m, nbsteps)\n",
    "    job = grover.to_job(qubits=registers, nbshots=1)\n",
    "    result = qpu.submit(job)\n",
    "    return result[0].state.value "
   ]
  },
  {
   "cell_type": "code",
   "execution_count": null,
   "id": "4df5f56c-d9eb-461f-b117-492bffb12925",
   "metadata": {},
   "outputs": [],
   "source": [
    "def q_search(m):\n",
    "    l = 1\n",
    "    c = 1.5\n",
    "    M = int(np.ceil(c ** l))\n",
    "    while True:\n",
    "        j = np.random.randint(1, M)\n",
    "        print(\"Trying with\", j, \"steps\")\n",
    "        coloration = single_search(Nodes = 4,m = m,nbsteps = j)\n",
    "        if all(coloration[a] != coloration[b] for a, b in ch.constraints):\n",
    "            return coloration\n",
    "        l += 1\n",
    "        M = int(np.ceil(c ** l))"
   ]
  },
  {
   "cell_type": "code",
   "execution_count": null,
   "id": "8ba20914-6e61-4bbc-81e0-943d9c371a19",
   "metadata": {},
   "outputs": [],
   "source": [
    "coloration = q_search(bits_needed)\n",
    "print(\"Found a valid coloration:\", coloration)"
   ]
  }
 ],
 "metadata": {
  "kernelspec": {
   "display_name": "Python 3 (ipykernel)",
   "language": "python",
   "name": "python3"
  },
  "language_info": {
   "codemirror_mode": {
    "name": "ipython",
    "version": 3
   },
   "file_extension": ".py",
   "mimetype": "text/x-python",
   "name": "python",
   "nbconvert_exporter": "python",
   "pygments_lexer": "ipython3",
   "version": "3.9.7"
  },
  "widgets": {
   "application/vnd.jupyter.widget-state+json": {
    "state": {},
    "version_major": 2,
    "version_minor": 0
   }
  }
 },
 "nbformat": 4,
 "nbformat_minor": 5
}
